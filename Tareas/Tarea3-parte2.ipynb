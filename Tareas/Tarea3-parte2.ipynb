{
 "cells": [
  {
   "cell_type": "markdown",
   "id": "dbd3905d-1c84-4b73-b462-4b9c82708364",
   "metadata": {},
   "source": [
    "# <center> <span style=\"color:purple\"> Diplomado en Ciencia de Datos. Tarea N° 3.</span>\n",
    "### <span style=\"color:darkblue\"> Autor </span> \n",
    " <span style=\"color:black\"> Leidy Alfonso, lpalfonsoa@unal.edu.co </span> "
   ]
  },
  {
   "cell_type": "markdown",
   "id": "f808aafc-d2ed-4cd3-92d3-cca6298327be",
   "metadata": {},
   "source": [
    "## <span style=\"color:darkblue\"> Punto 3: </span> \n",
    "Escriba una clase con las siguientes funcionalidades:\n",
    "\n",
    "**3.1** Al instanciar un objeto, lee un conjunto de datos numéricos. Por ejemplo puede usar el mismo conjunto de datos iris.csv. Instancie los datos en un dataframe de Pandas\n",
    "\n",
    "**3.2** Implemente un método que calcule las estadísticas descriptivas básicas de cada una de las variables\n",
    "\n",
    "**3.3** Implemente un método que entregue los nombre de las variables disponibles.\n",
    "\n",
    "**3.3** Implemente un método que reciba el nombre de una variable disponible dentro del objeto ( en el  dataframe) y regrese: sus estadísticas básicas:  media, mediana, desviación, percentiles q25, q50, q75 y dibuje un histograma de la distribución de la variable."
   ]
  },
  {
   "cell_type": "code",
   "execution_count": 53,
   "id": "98300eb6-152a-4c10-9d2f-9207f426c12e",
   "metadata": {},
   "outputs": [
    {
     "name": "stdout",
     "output_type": "stream",
     "text": [
      "['Columna', 'Media', 'Mediana', 'Desviación', 'q25', 'q50', 'q75']\n",
      "['SepalLengthCm', 5.85, 0.83, 5.1, 5.8, 6.4]\n",
      "['SepalWidthCm', 3.05, 0.43, 2.8, 3.0, 3.3]\n",
      "['PetalLengthCm', 3.77, 1.75, 1.6, 4.4, 5.1]\n",
      "['PetalWidthCm', 1.21, 0.76, 0.3, 1.3, 1.8]\n",
      "None\n",
      "Id\n",
      "SepalLengthCm\n",
      "SepalWidthCm\n",
      "PetalLengthCm\n",
      "PetalWidthCm\n",
      "Species\n",
      "None\n",
      "No es posible hacer el calcula ya que son datos de tipo no numérico\n",
      "None\n",
      "['SepalLengthCm', 5.85, 0.83, 5.1, 5.8, 6.4]\n",
      "None\n"
     ]
    }
   ],
   "source": [
    "import pandas as pd\n",
    "import numpy as np\n",
    "\n",
    "def estadis(name, array):\n",
    "    return [name, round(np.mean(array),2), round(np.std(array),2), round(np.percentile(array, 25),2), round(np.percentile(array, 50),2), round(np.percentile(array, 75),2)]\n",
    "    \n",
    "\n",
    "class Clase3:\n",
    "    def __init__(self, dir):\n",
    "        #Creando dataframe interno \n",
    "        self.datairis = pd.read_csv(dir)\n",
    "        self.edad = 0\n",
    "        \n",
    "    def estadisticas(self):\n",
    "        rows = len(self.datairis.axes[0])\n",
    "        lista = self.datairis.columns.values\n",
    "        \n",
    "        self.column1 = estadis(lista[1],self.datairis.iloc[1:rows,1])\n",
    "        self.column2 = estadis(lista[2],self.datairis.iloc[1:rows,2])\n",
    "        self.column3 = estadis(lista[3],self.datairis.iloc[1:rows,3])\n",
    "        self.column4 = estadis(lista[4],self.datairis.iloc[1:rows,4])\n",
    "        aux = [\"Columna\", \"Media\", \"Mediana\", \"Desviación\", \"q25\", \"q50\", \"q75\"]\n",
    "        print(aux)\n",
    "        print(self.column1)\n",
    "        print(self.column2)\n",
    "        print(self.column3)\n",
    "        print(self.column4)\n",
    "        \n",
    "        \n",
    "    def variablesDisponibles(self):\n",
    "        lista = self.datairis.columns.values\n",
    "        for i in range(0,len(lista)) :\n",
    "            print(lista[i])\n",
    "            \n",
    "    def datos(self, name_column):\n",
    "        lista = self.datairis.columns.values\n",
    "        columns = len(self.datairis.axes[1])\n",
    "        x=0\n",
    "        for i in range(0,columns):\n",
    "            if name_column == lista[i]:\n",
    "                x=i\n",
    "                break;\n",
    "        if x==1:\n",
    "            print(self.column1)\n",
    "        elif x==2:\n",
    "            print(self.column2)\n",
    "        elif x==3:\n",
    "            print(self.column3)\n",
    "        elif x==4:\n",
    "            print(self.column4)\n",
    "        else:\n",
    "            print(\"No es posible hacer el calcula ya que son datos de tipo no numérico\")\n",
    "\n",
    "#Testing\n",
    "Iris = Clase3(\"./iris.csv\")\n",
    "print(Iris.estadisticas())\n",
    "print(Iris.variablesDisponibles())\n",
    "print(Iris.datos(\"Id\"))\n",
    "print(Iris.datos(\"SepalLengthCm\"))"
   ]
  }
 ],
 "metadata": {
  "kernelspec": {
   "display_name": "Python 3 (ipykernel)",
   "language": "python",
   "name": "python3"
  },
  "language_info": {
   "codemirror_mode": {
    "name": "ipython",
    "version": 3
   },
   "file_extension": ".py",
   "mimetype": "text/x-python",
   "name": "python",
   "nbconvert_exporter": "python",
   "pygments_lexer": "ipython3",
   "version": "3.10.6"
  }
 },
 "nbformat": 4,
 "nbformat_minor": 5
}
