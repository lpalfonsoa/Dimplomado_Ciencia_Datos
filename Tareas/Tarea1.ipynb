{
 "cells": [
  {
   "cell_type": "markdown",
   "id": "e5cd54db-5e13-45bc-b2ae-461333de50d1",
   "metadata": {},
   "source": [
    "<img src=\"../Imagenes/Logo_Aprendizaje_Profundo.jpg\" width=\"400\" height=\"500\" align=\"center\"/>"
   ]
  },
  {
   "cell_type": "markdown",
   "id": "c11d4db5-701e-4ad7-97aa-4082b4add122",
   "metadata": {
    "tags": []
   },
   "source": [
    "# <center> <span style=\"color:purple\"> *Diplomado en Ciencia de Datos. Tarea N° 1.*</span>\n",
    "### <span style=\"color:darkblue\"> Autor </span> \n",
    " <span style=\"color:black\"> Leidy Alfonso, lpalfonsoa@unal.edu.co </span>\n",
    "## <span style=\"color:darkblue\"> 1.- Varianza. </span> \n",
    " \n",
    "    \n",
    "La varianza (también llamada variancia) es una medida de dispersión, es decir, indica qué tan dispersos se encuentra el grupo de datos de su valor promedio. La varianza es el cuadrado de la desviación estándar; el segundo momento central de una distribución, con lo cual viene dada por la relación:\n",
    "\n",
    " \\begin{aligned}\\operatorname {Var} (X)&=\\operatorname {E} \\left[(X-\\operatorname {E} [X])^{2}\\right]\\\\[4pt]&=\\operatorname {E} \\left[X^{2}-2X\\operatorname {E} [X]+\\operatorname {E} [X]^{2}\\right]\\\\[4pt]&=\\operatorname {E} \\left[X^{2}\\right]-2\\operatorname {E} [X]\\operatorname {E} [X]+\\operatorname {E} [X]^{2}\\\\[4pt]&=\\operatorname {E} \\left[X^{2}\\right]-\\operatorname {E} [X]^{2}\\end{aligned}\n",
    " \n",
    " donde $E[X]$ hace referencia al valor esperado de la variable aleatoria $X$. Naturalmente, esta cantidad también se puede definir para variables continuas.\n",
    " \n",
    "Sea $X$ una variable aleatoria y $\\alpha$ una constante real, la varianza cumple las siguientes propiedades:\n",
    "\n",
    "- $Var(X)\\geq 0 $ \n",
    "- $Var(\\alpha)= 0$\n",
    "- $Var(\\alpha X)= \\alpha^2 Var(X)$ \n",
    "- $Var(\\alpha + X)= Var(X)$ \n",
    "- $Var(X)= 0$ si y sólo si $P(X=E(X))=1$ \n",
    "\n",
    "\n",
    "Como <span style=\"color:darkblue\"> ejemplo </span>, considere que se lanza un dado ded 6 caras una vez. Sea $X$ la variable aleatoria que denota el resultado obtenido. Se sabe que $E(X)= \\frac{21}{6}$, dado que el valor esperado del cuadrado de la variable es:\n",
    "\n",
    "\\begin{equation}\n",
    "E(X^2) = \\sum_{k=1}^{6} \\frac{1}{6} k^2 = \\frac{91}{6}\n",
    "\\end{equation}\n",
    "\n",
    "Entonces, la varianza correspondiente es\n",
    "\n",
    "\\begin{align}\n",
    "Var(X) &= E(X^2)- (E(X))^2 \\newline\n",
    " &=  \\frac{91}{6} - \\left(\\frac{21}{6}\\right)^2  \\newline\n",
    " &= \\frac{35}{12} \\approx 2.92\n",
    "\\end{align}\n",
    "\n",
    "Para más ejemplos, puede consultar el libro de Probabilidad de Liliana Blanco Castañeda, disponible [aquí](http://ciencias.bogota.unal.edu.co/menu-principal/publicaciones/libreria-facultad-de-ciencias/estadistica/)"
   ]
  },
  {
   "cell_type": "markdown",
   "id": "88d82eb8-ebf1-42c4-aa44-ddb1e5a48d66",
   "metadata": {},
   "source": [
    "## <span style=\"color:darkblue\"> 2.- Acerca del autor. </span> "
   ]
  },
  {
   "cell_type": "markdown",
   "id": "47218e8a-fd1a-4240-ae4b-e46fc4c5edc0",
   "metadata": {},
   "source": [
    "<center><img src=\"../Imagenes/Foto3x4.jpg\" width=\"110\" height=\"35\" align=\"rigth\"/>"
   ]
  },
  {
   "cell_type": "markdown",
   "id": "3240d316-5c30-4dc6-8811-2e12e7af5d52",
   "metadata": {},
   "source": [
    "Mi nombre es Leidy Alfonso. Soy recién graduada del programa de Física de la Facultad de Ciencias de la Universidad Nacional de Colombia, sede Bogotá. Me encuentro interesada en la física computacional, cuántica computacional, física médica, ciencia de materiales y mecánica estadística. Actualmente deseo desempeñarme en el área de análisis de datos, razón por la cual me inscribí en el Diplomado de Ciencia de Datos. "
   ]
  },
  {
   "cell_type": "markdown",
   "id": "950da3e1-6bf0-4b24-b409-010ce52fa67f",
   "metadata": {},
   "source": [
    "### <span style=\"color:black\">  Referencias</span> \n",
    "[1] Wasserman, Larry (2005). *All of Statistics: a concise course in statistical inference*. Springer texts in statistics.\n",
    "\n",
    "[2] Blanco Castañeda, Liliana (2010). *Probabilidad.* Universidad Nacional de Colombia, Facultad de Ciencias."
   ]
  },
  {
   "cell_type": "markdown",
   "id": "55e22525-485c-4572-b95c-bd494d4556f7",
   "metadata": {},
   "source": []
  }
 ],
 "metadata": {
  "kernelspec": {
   "display_name": "Python 3 (ipykernel)",
   "language": "python",
   "name": "python3"
  },
  "language_info": {
   "codemirror_mode": {
    "name": "ipython",
    "version": 3
   },
   "file_extension": ".py",
   "mimetype": "text/x-python",
   "name": "python",
   "nbconvert_exporter": "python",
   "pygments_lexer": "ipython3",
   "version": "3.10.6"
  }
 },
 "nbformat": 4,
 "nbformat_minor": 5
}
