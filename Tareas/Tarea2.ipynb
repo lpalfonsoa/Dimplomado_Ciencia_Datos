{
 "cells": [
  {
   "cell_type": "markdown",
   "id": "70a3448a-ab5c-4322-96b3-8d1e97f6e88a",
   "metadata": {},
   "source": [
    "# <center> <span style=\"color:purple\"> Diplomado en Ciencia de Datos. Tarea N° 2.</span>\n",
    "### <span style=\"color:darkblue\"> Autor </span> \n",
    " <span style=\"color:black\"> Leidy Alfonso, lpalfonsoa@unal.edu.co </span>\n",
    "### <span style=\"color:darkblue\"> Función 1. </span> \n",
    " \n",
    "    \n",
    "**Descripción:** Función que reciba la fecha de nacimiento de una persona y calcule la edad de la persona. \n",
    "En vista que no se específica, asumo que la fecha es dada en formato año-mes-día, sin separadores y como un string."
   ]
  },
  {
   "cell_type": "code",
   "execution_count": 22,
   "id": "ac68de55-e23d-4cbb-94dc-215985e8a696",
   "metadata": {},
   "outputs": [
    {
     "name": "stdout",
     "output_type": "stream",
     "text": [
      "24\n",
      "42\n",
      "32\n",
      "2\n",
      "Formato incorrecto.\n",
      "None\n"
     ]
    }
   ],
   "source": [
    "#import numpy as np\n",
    "import datetime\n",
    "\n",
    "def Age(date):\n",
    "    try:\n",
    "        today = datetime.date.today()\n",
    "        year = int(date[0:4])\n",
    "        month = int(date[4:6])\n",
    "        day = int(date[6:8])\n",
    "        date_complete = datetime.date(year,month,day)\n",
    "        age_days = (today-date_complete).days\n",
    "        return int(age_days/365)\n",
    "    except: \n",
    "        print(\"Formato incorrecto.\")\n",
    "        return None\n",
    "\n",
    "#Pruebas\n",
    "print(Age(\"19980516\"))\n",
    "print(Age(\"19800826\"))\n",
    "print(Age(\"19900826\"))\n",
    "print(Age(\"20200526\"))\n",
    "print(Age(19980516))"
   ]
  },
  {
   "cell_type": "markdown",
   "id": "38e28e50-fd5c-445e-af2f-66c493e33aa4",
   "metadata": {},
   "source": [
    "### <span style=\"color:darkblue\"> Función 2. </span> \n",
    " \n",
    "    \n",
    "**Descripción:** Función EscribirCentrado, que reciba como parámetro un texto y lo escriba centrado en pantalla (suponiendo una anchura de 80 columnas; pista: deberás escribir 40 - longitud/2 espacios antes del texto). "
   ]
  },
  {
   "cell_type": "code",
   "execution_count": 37,
   "id": "ccdcf09a-ca76-43ca-803d-6758c0439e47",
   "metadata": {},
   "outputs": [
    {
     "name": "stdout",
     "output_type": "stream",
     "text": [
      "                                      Hola\n",
      "                               Esta es una prueba\n",
      "                    Cada día sabemos más y entendemos menos.\n"
     ]
    }
   ],
   "source": [
    "def EscribirCentrado(string):\n",
    "    length = len(string)\n",
    "    Nspaces = int(40 - length/2)\n",
    "    for i in range(0, Nspaces):\n",
    "        print(end=\" \")\n",
    "    print(string)\n",
    "\n",
    "\n",
    "EscribirCentrado(\"Hola\")\n",
    "EscribirCentrado(\"Esta es una prueba\")\n",
    "EscribirCentrado(\"Cada día sabemos más y entendemos menos.\")"
   ]
  },
  {
   "cell_type": "markdown",
   "id": "9d3d7d13-0859-462c-8290-17df97574701",
   "metadata": {},
   "source": [
    "### <span style=\"color:darkblue\"> Función 3. </span> \n",
    " \n",
    "    \n",
    "**Descripción:** Función decorada que reciba un texto y lo escriba marcado con Markdown en itálica y resaltada (bold). Revise la lección de decoradores, no vista en clase.\n",
    " "
   ]
  },
  {
   "cell_type": "code",
   "execution_count": 47,
   "id": "6fd76ccc-48a2-4237-971b-154e69d5f0fd",
   "metadata": {},
   "outputs": [
    {
     "name": "stdout",
     "output_type": "stream",
     "text": [
      "<b><i>Hola</i></b>\n",
      "<b><i>Probando-con-diferentes-cadenas</i></b>\n",
      "<b><i>El nacimiento y la muerte no son dos estados distintos, sino dos aspectos del mismo estado</i></b>\n"
     ]
    }
   ],
   "source": [
    "def make_bold(fn):\n",
    "    def makebold_wrapper(string):\n",
    "        return \"<b>\" + fn(string) + \"</b>\"\n",
    "    return makebold_wrapper\n",
    "\n",
    "def make_italic(fn):\n",
    "    def makeitalic_wrapper(string):\n",
    "        return \"<i>\" + fn(string) + \"</i>\"\n",
    "    return makeitalic_wrapper\n",
    "\n",
    "@make_bold\n",
    "@make_italic\n",
    "def DecorateFunction(string):\n",
    "    return string\n",
    "\n",
    "#Pruebas\n",
    "print(DecorateFunction(\"Hola\"))\n",
    "print(DecorateFunction(\"Probando-con-diferentes-cadenas\"))\n",
    "print(DecorateFunction(\"El nacimiento y la muerte no son dos estados distintos, sino dos aspectos del mismo estado\"))"
   ]
  },
  {
   "cell_type": "markdown",
   "id": "dabd083b-b127-4bcf-8656-44863b99ed51",
   "metadata": {},
   "source": [
    "### <span style=\"color:darkblue\"> Función 4. </span> \n",
    " \n",
    "    \n",
    "**Descripción:** Crea un programa que pida dos número enteros al usuario y diga si alguno de ellos es múltiplo del otro. "
   ]
  },
  {
   "cell_type": "code",
   "execution_count": null,
   "id": "b70fb398-f08d-4191-8d89-9729259d3c89",
   "metadata": {},
   "outputs": [],
   "source": [
    "def Is_multiple(x,y):\n",
    "    if x==0 or y==0:\n",
    "         print(\"0 es múltiplo todos los números\")\n",
    "    else:\n",
    "        if x%y==0:\n",
    "            print(\"%s es múltiplo de %d\"%(x,y))\n",
    "        elif y%x==0: \n",
    "            print(\"%s es múltiplo de %d\"%(y,x))\n",
    "        else:\n",
    "            print(\"Ninguno es múltiplo del otro\")\n",
    "\n",
    "#Pruebas\n",
    "number1 = int(input())\n",
    "number2 = int(input())\n",
    "Is_multiple(number1,number2)"
   ]
  },
  {
   "cell_type": "markdown",
   "id": "e859aacc-5a57-41c8-90ed-e53046a10b2d",
   "metadata": {},
   "source": [
    "### <span style=\"color:darkblue\"> Función 5. </span> \n",
    " \n",
    "    \n",
    "**Descripción:** Función que reciba una lista de 24 valores de temperatura leída  hora en un día y que calcule la temperatura media. Cree una lista con 24 valores de temperatura de un día de Bogotá y pruebe su función. Invente los datos."
   ]
  },
  {
   "cell_type": "code",
   "execution_count": 22,
   "id": "3fb21e10-0c73-4bee-a033-143beee086b3",
   "metadata": {},
   "outputs": [
    {
     "data": {
      "text/plain": [
       "15.71"
      ]
     },
     "execution_count": 22,
     "metadata": {},
     "output_type": "execute_result"
    }
   ],
   "source": [
    "def MeanTemperature(x):\n",
    "    suma = sum(x)\n",
    "    length = len(x)\n",
    "    return round(suma/length,2) #Rendondeando para que se vea más lindo\n",
    "\n",
    "temperatures=[13.2,12.0,15.7,17.1,16.4,15.5,10.0,11.8,18.4,20.3,22.2,15.1,14.7,13.0,20.5,18.1,19.2,16.6,17.1,15.3,14.2,13.1,15.5,12.0]\n",
    "MeanTemperature(temperatures)"
   ]
  },
  {
   "cell_type": "markdown",
   "id": "c15d58bb-afe8-49df-94fb-3cee6a093735",
   "metadata": {},
   "source": [
    "### <span style=\"color:darkblue\"> Función 6. </span> \n",
    " \n",
    "    \n",
    "**Descripción:** Función “ConvertirEspaciado”, que reciba como parámetro un texto y devuelve una cadena con un espacio adicional tras cada letra. Por ejemplo, “Hola, tú” devolverá “H o l a , t ú “.  Pruebe"
   ]
  },
  {
   "cell_type": "code",
   "execution_count": 27,
   "id": "c5c1014f-fc94-4059-9e0d-fd5abca7b378",
   "metadata": {},
   "outputs": [
    {
     "name": "stdout",
     "output_type": "stream",
     "text": [
      "H o l a , t ú "
     ]
    }
   ],
   "source": [
    "def ConvertirEspaciado(string):\n",
    "    x = string.replace(\" \", \"\") \n",
    "    for i in x:\n",
    "        print(i, end=\" \")\n",
    "    \n",
    "ConvertirEspaciado(\"Hola, tú\")"
   ]
  },
  {
   "cell_type": "markdown",
   "id": "075329a3-4195-4f14-b8e6-4bd15e2869c5",
   "metadata": {},
   "source": [
    "### <span style=\"color:darkblue\"> Función 7. </span> \n",
    " \n",
    "    \n",
    "**Descripción:** Función “calcularMaxMin” que recibe una arreglo con valores numérico y devuelve el valor máximo y el mínimo."
   ]
  },
  {
   "cell_type": "code",
   "execution_count": 35,
   "id": "b2560a8c-e48b-463a-9526-de039f3956f0",
   "metadata": {},
   "outputs": [
    {
     "name": "stdout",
     "output_type": "stream",
     "text": [
      "(5, -10)\n",
      "(100, -10.1)\n"
     ]
    }
   ],
   "source": [
    "def calcularMaxMin(lista):\n",
    "    x = max(lista)\n",
    "    y=min(lista)\n",
    "    return x,y\n",
    "\n",
    "#Testing\n",
    "mylist=[1,2,3,4,5,-1,-10]\n",
    "mylist2=[0,100,3,2,-1,-10,-10.1]\n",
    "print(calcularMaxMin(mylist))\n",
    "print(calcularMaxMin(mylist2))"
   ]
  },
  {
   "cell_type": "markdown",
   "id": "07505206-bef9-4f03-888f-58d6c3ac4f5a",
   "metadata": {},
   "source": [
    "### <span style=\"color:darkblue\"> Función 8. </span> \n",
    " \n",
    "    \n",
    "**Descripción:**  Función que calcule el área y el perímetro de una circunferencia. "
   ]
  },
  {
   "cell_type": "code",
   "execution_count": 62,
   "id": "275358c5-a825-4470-8a53-abc8e3c16b04",
   "metadata": {},
   "outputs": [
    {
     "name": "stdout",
     "output_type": "stream",
     "text": [
      "El área y perímetro de la circunferencia son, respectivamente: 3.14 y 6.28\n"
     ]
    }
   ],
   "source": [
    "import math\n",
    "pi = math.pi\n",
    "\n",
    "def AreaAndPerimeter(r):\n",
    "    area = round(pi*r*r,2) #Redondeando por estética\n",
    "    perimeter = round(2*pi*r,2)\n",
    "    #Imprimiendo para probar la funcion\n",
    "    print ('El área y perímetro de la circunferencia son, respectivamente: ' + str(area) + ' y ' + str(perimeter)) \n",
    "\n",
    "#Testing\n",
    "AreaAndPerimeter(1.0)"
   ]
  },
  {
   "cell_type": "markdown",
   "id": "24a18fa5-daa4-4e77-92c7-c8fc1bf08385",
   "metadata": {},
   "source": [
    "### <span style=\"color:darkblue\"> Función 9. </span> \n",
    " \n",
    "    \n",
    "**Descripción:**  Función  llamada “Login”, que recibe un nombre de usuario y una contraseña y devuelva Verdadero si el nombre de usuario es “usuario1” y la contraseña es “asdasd”. Además recibe el número de intentos que se ha intentado hacer login y si no se ha podido hacer login incremente este valor."
   ]
  },
  {
   "cell_type": "code",
   "execution_count": 88,
   "id": "5c0f16a2-f3ac-4330-8c1a-408958e655c7",
   "metadata": {},
   "outputs": [
    {
     "name": "stdout",
     "output_type": "stream",
     "text": [
      "1\n",
      "2\n",
      "True\n"
     ]
    }
   ],
   "source": [
    "#PREGUNTAR\n",
    "def Login(name,password, Nlogin):\n",
    "    if name==\"usuario1\" and password==\"asdasd\":\n",
    "        Nlogin[0]=0; #Reiniciando el contador en caso de acceder\n",
    "        return True\n",
    "    else:\n",
    "        Nlogin[0] +=1\n",
    "        return int(Nlogin[0]) #retornando el número de intentos\n",
    "#Testing\n",
    "N=[0]\n",
    "print(Login(\"Hola\", \"bla\",N))\n",
    "print(Login(\"blabla\", \"bla\",N))\n",
    "print(Login(\"usuario1\", \"asdasd\",N))"
   ]
  },
  {
   "cell_type": "markdown",
   "id": "9bb19787-ee62-4208-945e-81c345ac5665",
   "metadata": {},
   "source": [
    "### <span style=\"color:darkblue\"> Función 10. </span> \n",
    " \n",
    "    \n",
    "**Descripción:** Función recursiva que permita calcular el factorial de un número. Realiza un programa principal donde se lea un entero y se muestre el resultado del factorial. Revise la lección de funciones."
   ]
  },
  {
   "cell_type": "code",
   "execution_count": 31,
   "id": "369361f5-bad2-4c53-af95-e11fd8b504f5",
   "metadata": {},
   "outputs": [
    {
     "name": "stdout",
     "output_type": "stream",
     "text": [
      "1\n",
      "1\n",
      "120\n"
     ]
    }
   ],
   "source": [
    "def Fact(x):\n",
    "    if x==0: \n",
    "        return 1\n",
    "    elif x<0:\n",
    "        print(\"El factorial no está definido para negativos.\")\n",
    "    else: \n",
    "        return x*Fact(x-1)\n",
    "\n",
    "#Testing\n",
    "print(Fact(0))\n",
    "print(Fact(1))\n",
    "print(Fact(5))"
   ]
  },
  {
   "cell_type": "markdown",
   "id": "f64a3920-6051-4230-9833-e2a39b637f97",
   "metadata": {},
   "source": [
    "### <span style=\"color:darkblue\"> Función 11. </span> \n",
    " \n",
    "    \n",
    "**Descripción:** Dos funciones que permitan calcular:\n",
    "- La cantidad de segundos en un tiempo dado en horas, minutos y segundos.\n",
    "- La cantidad de horas, minutos y segundos de un tiempo dado en segundos\n"
   ]
  },
  {
   "cell_type": "code",
   "execution_count": 58,
   "id": "9945a673-9f99-40ed-9f0e-fbb4417b4bae",
   "metadata": {},
   "outputs": [
    {
     "name": "stdout",
     "output_type": "stream",
     "text": [
      "73220\n",
      "(126, 42, 3)\n"
     ]
    }
   ],
   "source": [
    "def To_sec(hours, minutes, seconds):\n",
    "    return hours*3600+minutes*60+seconds\n",
    "\n",
    "def To_hours(secs):\n",
    "    horas = int(secs/3600)\n",
    "    x=secs%3600\n",
    "    minutos = int(x/60)\n",
    "    segundos=x%60\n",
    "    return horas,minutos,segundos\n",
    "\n",
    "#Testing\n",
    "print(To_sec(20,20,20))\n",
    "print(To_hours(456123))"
   ]
  },
  {
   "cell_type": "markdown",
   "id": "99e16bb9-c6f5-47bb-9061-1260b81670a3",
   "metadata": {},
   "source": [
    "### <span style=\"color:darkblue\"> Función 12. </span> \n",
    " \n",
    "    \n",
    "**Descripción:** Función  que lea una tupla, invierta los valores de la tupla y regrese una nueva tupla invirtiendo los valores. Recuerde que las tuplas son inmutables."
   ]
  },
  {
   "cell_type": "code",
   "execution_count": 68,
   "id": "af015375-fa22-44bc-b255-c50dc069880c",
   "metadata": {},
   "outputs": [
    {
     "name": "stdout",
     "output_type": "stream",
     "text": [
      "(3, 2, 1)\n",
      "('C', 'B', 'A')\n"
     ]
    }
   ],
   "source": [
    "def Inverted(tupla):\n",
    "    lista = list(tupla) #convirtiendo en lista para poder modificar el orden\n",
    "    return tuple(lista[::-1]) #invirtiendo y retornando\n",
    "\n",
    "#testing\n",
    "print(Inverted((1,2,3)))\n",
    "print(Inverted((\"A\", \"B\", \"C\")))"
   ]
  },
  {
   "cell_type": "markdown",
   "id": "8a8e30ed-8188-48b0-9c30-b73cbdfb5bbb",
   "metadata": {},
   "source": [
    "### <span style=\"color:darkblue\"> Función 13. </span> \n",
    " \n",
    "    \n",
    "**Descripción:** Función que lea una lista y calcule la media geométrica de sus valores, usando funtools.reduce.\n",
    "\n"
   ]
  },
  {
   "cell_type": "code",
   "execution_count": null,
   "id": "cdf2e523-fd53-42db-8a83-6dc7d2faa6a9",
   "metadata": {},
   "outputs": [],
   "source": []
  }
 ],
 "metadata": {
  "kernelspec": {
   "display_name": "Python 3 (ipykernel)",
   "language": "python",
   "name": "python3"
  },
  "language_info": {
   "codemirror_mode": {
    "name": "ipython",
    "version": 3
   },
   "file_extension": ".py",
   "mimetype": "text/x-python",
   "name": "python",
   "nbconvert_exporter": "python",
   "pygments_lexer": "ipython3",
   "version": "3.10.6"
  }
 },
 "nbformat": 4,
 "nbformat_minor": 5
}
